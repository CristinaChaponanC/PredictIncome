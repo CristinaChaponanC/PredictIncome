{
 "cells": [
  {
   "cell_type": "code",
   "execution_count": null,
   "source": [
    "input_variables = pd.DataFrame([[edad, educacion, empresa,max_saldo,decre_saldo,linea_tc,deuda_tc]],\r\n",
    "                                       columns=['edad', 'educacion', 'empresa','max_saldo','decre_saldo','linea_tc','deuda_tc'],\r\n",
    "                                       dtype=float,\r\n",
    "                                       index=['input'])\r\n",
    "\r\n",
    "        # Get the model's prediction\r\n",
    "        input_variables.fillna(0, inplace=True)\r\n",
    "        var_log=['max_saldo','decre_saldo']\r\n",
    "        for col in var_log:\r\n",
    "            input_variables[col]=np.log10(input_variables[col]+1)\r\n",
    "        \r\n",
    "        prediction = model.predict(input_variables)[0]"
   ],
   "outputs": [],
   "metadata": {}
  }
 ],
 "metadata": {
  "orig_nbformat": 4,
  "language_info": {
   "name": "python"
  }
 },
 "nbformat": 4,
 "nbformat_minor": 2
}